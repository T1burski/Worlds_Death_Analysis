{
 "cells": [
  {
   "cell_type": "code",
   "execution_count": 80,
   "id": "dd3fbfbc",
   "metadata": {},
   "outputs": [],
   "source": [
    "#=======================================\n",
    "#   Start by importing the necessary libraries to treat the data\n",
    "#=======================================\n",
    "\n",
    "import pandas as pd\n",
    "import numpy as np\n",
    "from sklearn.model_selection import train_test_split\n",
    "from matplotlib import pyplot as plt\n",
    "import seaborn as sns"
   ]
  },
  {
   "cell_type": "code",
   "execution_count": 81,
   "id": "f234f42e",
   "metadata": {},
   "outputs": [],
   "source": [
    "#=======================================\n",
    "#   Reading our two datasets, one related to the annual deaths by cause and\n",
    "#   the other to the life expectancy globally also by year\n",
    "#=======================================\n",
    "\n",
    "dh = pd.read_csv('annual_deaths_by_causes.csv')\n",
    "ge = pd.read_csv('global_life_expectancy_dataset.csv')\n",
    "\n",
    "#=======================================\n",
    "#   Dropping 2020 from the life expectancy dataset because we don't have\n",
    "#   data associated with this year on the other dataset\n",
    "#=======================================\n",
    "\n",
    "ge = ge.drop('2020', axis=1)"
   ]
  },
  {
   "cell_type": "code",
   "execution_count": 82,
   "id": "387953e1",
   "metadata": {},
   "outputs": [],
   "source": [
    "#=======================================\n",
    "#   The deaths causes dataset has the years of the events in the columns. It is better\n",
    "#   if we unpivot this dataset (melt), making sure that the years are located as rows.\n",
    "#   With this, we can obtain the life expectancy and deaths by cause associated with primary keys\n",
    "#   (year + Country Name), making our analysis easier later on.\n",
    "#=======================================\n",
    "\n",
    "ge_piv = ge.melt(id_vars=[\"Country Name\", \"Country Code\"], var_name=['Date'], value_name=\"Life_Exp\")"
   ]
  },
  {
   "cell_type": "code",
   "execution_count": 83,
   "id": "a95a699d",
   "metadata": {},
   "outputs": [],
   "source": [
    "#=======================================\n",
    "#   Now we drop the columns associated with the country code and merge both datasets using\n",
    "#   the primery key (year + Country Name) to add in the same dataset the life expectancy\n",
    "#   and the number of deaths by cause.\n",
    "#=======================================\n",
    "\n",
    "ge_piv = ge_piv.drop(\"Country Code\", axis=1)\n",
    "dh['year'] = dh['year'].apply(str)\n",
    "ge_piv['Date'] = ge_piv['Date'].apply(str)\n",
    "dh = dh.drop('code', axis=1)\n",
    "cn = dh.merge(ge_piv, left_on=[\"country\", \"year\"], right_on=[\"Country Name\", 'Date'])\n",
    "cn = cn.drop(\"Country Name\", axis=1)\n",
    "cn = cn.drop(\"Date\", axis=1)"
   ]
  },
  {
   "cell_type": "code",
   "execution_count": 89,
   "id": "0ddcfc03",
   "metadata": {},
   "outputs": [
    {
     "data": {
      "text/plain": [
       "country                                    0\n",
       "year                                       0\n",
       "meningitis                                21\n",
       "alzheimer's_diesease                      21\n",
       "parkinson's_disease                       21\n",
       "nutritional_deficiency                    21\n",
       "malaria                                   21\n",
       "drowning                                  21\n",
       "interpersonal_violence                    21\n",
       "maternal_disorders                        21\n",
       "hiv/aids                                  21\n",
       "drug_use_disorders                        21\n",
       "tuberculosis                              21\n",
       "cardiovascular_diseases                   21\n",
       "lower_respiratory_infections              21\n",
       "neonatal_disorders                        21\n",
       "alcohol_use_disorders                     21\n",
       "self_harm                                 21\n",
       "exposure_to_forces_of_nature              21\n",
       "diarrheal_diseases                        21\n",
       "environmental_heat_and_cold_exposure      21\n",
       "neoplasms                                 21\n",
       "conflict_and_terrorism                    21\n",
       "diabetes_mellitus                         21\n",
       "chronic_kidney_disease                    21\n",
       "poisonings                                21\n",
       "protein_energy_malnutrition               21\n",
       "terrorism                               2870\n",
       "road_injuries                             21\n",
       "chronic_respiratory_diseases              21\n",
       "chronic_liver_diseases                    21\n",
       "digestive_diseases                        21\n",
       "fire_heat_hot_substance                   21\n",
       "acute_hepatitis                           21\n",
       "Life_Exp                                  98\n",
       "dtype: int64"
      ]
     },
     "execution_count": 89,
     "metadata": {},
     "output_type": "execute_result"
    }
   ],
   "source": [
    "#=======================================\n",
    "#   By using the command below we can se that there are soma rows (98 to be precise) that have\n",
    "#   null values. Since we want to compare and find the relation of life expectany with number\n",
    "#   and causes, we will be deleting this rows from the dataset. the same line of thought\n",
    "#   will be applied to the 21 rows that do not have any death cause associated with it.\n",
    "#=======================================\n",
    "\n",
    "cn.isna().sum()"
   ]
  },
  {
   "cell_type": "code",
   "execution_count": 103,
   "id": "2389ee92",
   "metadata": {},
   "outputs": [],
   "source": [
    "cn = cn[cn['Life_Exp'].notna()]\n",
    "cn = cn[cn['meningitis'].notna()]"
   ]
  },
  {
   "cell_type": "code",
   "execution_count": 107,
   "id": "fb678739",
   "metadata": {},
   "outputs": [
    {
     "data": {
      "text/plain": [
       "country                                 0\n",
       "year                                    0\n",
       "meningitis                              0\n",
       "alzheimer's_diesease                    0\n",
       "parkinson's_disease                     0\n",
       "nutritional_deficiency                  0\n",
       "malaria                                 0\n",
       "drowning                                0\n",
       "interpersonal_violence                  0\n",
       "maternal_disorders                      0\n",
       "hiv/aids                                0\n",
       "drug_use_disorders                      0\n",
       "tuberculosis                            0\n",
       "cardiovascular_diseases                 0\n",
       "lower_respiratory_infections            0\n",
       "neonatal_disorders                      0\n",
       "alcohol_use_disorders                   0\n",
       "self_harm                               0\n",
       "exposure_to_forces_of_nature            0\n",
       "diarrheal_diseases                      0\n",
       "environmental_heat_and_cold_exposure    0\n",
       "neoplasms                               0\n",
       "conflict_and_terrorism                  0\n",
       "diabetes_mellitus                       0\n",
       "chronic_kidney_disease                  0\n",
       "poisonings                              0\n",
       "protein_energy_malnutrition             0\n",
       "road_injuries                           0\n",
       "chronic_respiratory_diseases            0\n",
       "chronic_liver_diseases                  0\n",
       "digestive_diseases                      0\n",
       "fire_heat_hot_substance                 0\n",
       "acute_hepatitis                         0\n",
       "Life_Exp                                0\n",
       "dtype: int64"
      ]
     },
     "execution_count": 107,
     "metadata": {},
     "output_type": "execute_result"
    }
   ],
   "source": [
    "#=======================================\n",
    "#   Checking our dataset to see if the filters applied were succesful.\n",
    "#   At the same time, we can see that the \"terrorism\" cause of death has a lot of rows blanked\n",
    "#   out, being this a good reason to drop this column so the analysis doesn't run into troubles.\n",
    "#=======================================\n",
    "\n",
    "cn = cn.drop(\"terrorism\", axis=1)\n",
    "cn.isna().sum()"
   ]
  },
  {
   "cell_type": "code",
   "execution_count": 115,
   "id": "ec231864",
   "metadata": {},
   "outputs": [],
   "source": [
    "#=======================================\n",
    "#   Now let's try to do some data analysis. The Healthcare field has a lot of room for\n",
    "#   data science, analytics and machine learning, being one of those fields Health Trend Analysis,\n",
    "#   which in this case will be analyzed as follows: what is the impact of each death cause in the \n",
    "#   Life Expectancy in each country each year? Which death cause impacts the most in the decrease\n",
    "#   of the Life Expectancy in each country each year?\n",
    "#=======================================\n",
    "\n",
    "# For this, let's head to power BI! Exporting below the dataset prepared:\n",
    "\n",
    "cn.to_csv(r'C:\\Users\\artur\\Desktop\\Projects\\Deaths\\processed_dataset.csv', index=False)"
   ]
  },
  {
   "cell_type": "code",
   "execution_count": 120,
   "id": "6b1d9bdb",
   "metadata": {},
   "outputs": [],
   "source": [
    "#=======================================\n",
    "#   We will also prepare the following dataset that performs the analysis os the number of \n",
    "#   each cause of death by year and country. This form of representation makes our work easier\n",
    "#   on Power BI later on. \n",
    "#=======================================\n",
    "\n",
    "cn_piv = cn.drop(\"Life_Exp\", axis=1)\n",
    "cn_piv = cn_piv.melt(id_vars=[\"country\", \"year\"], var_name=['cause'], value_name=\"numb_deaths\")\n",
    "cn_piv.to_csv(r'C:\\Users\\artur\\Desktop\\Projects\\Deaths\\processed_dataset_deaths.csv', index=False)"
   ]
  },
  {
   "cell_type": "code",
   "execution_count": null,
   "id": "40cfd9ed",
   "metadata": {},
   "outputs": [],
   "source": []
  }
 ],
 "metadata": {
  "kernelspec": {
   "display_name": "Python 3 (ipykernel)",
   "language": "python",
   "name": "python3"
  },
  "language_info": {
   "codemirror_mode": {
    "name": "ipython",
    "version": 3
   },
   "file_extension": ".py",
   "mimetype": "text/x-python",
   "name": "python",
   "nbconvert_exporter": "python",
   "pygments_lexer": "ipython3",
   "version": "3.9.7"
  }
 },
 "nbformat": 4,
 "nbformat_minor": 5
}
